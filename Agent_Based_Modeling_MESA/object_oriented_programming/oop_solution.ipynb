{
 "cells": [
  {
   "cell_type": "markdown",
   "metadata": {},
   "source": [
    "# OOP Concept"
   ]
  },
  {
   "cell_type": "markdown",
   "metadata": {},
   "source": [
    "Python object oriented programming is based on the concept of \"objects\" which contain data and code.\n",
    "- Data in the form of instance variables - attributes or properties\n",
    "- Code in the form of methods or functions\n",
    "\n",
    "Object oriented programming encapsulates related properties and behaviors into individual objects"
   ]
  },
  {
   "cell_type": "markdown",
   "metadata": {},
   "source": [
    "# 1. Create an Patient class with age and gender instance attributes"
   ]
  },
  {
   "cell_type": "code",
   "execution_count": 1,
   "metadata": {},
   "outputs": [
    {
     "name": "stdout",
     "output_type": "stream",
     "text": [
      "25 Female\n"
     ]
    }
   ],
   "source": [
    "class Patient:\n",
    "    def __init__(self, age, gender):\n",
    "        self.age = age\n",
    "        self.gender = gender\n",
    "        \n",
    "patient_A = Patient(25, 'Female')\n",
    "print(patient_A.age, patient_A.gender)"
   ]
  },
  {
   "cell_type": "markdown",
   "metadata": {},
   "source": [
    "# 2. Create a Patient class without any variables and methods"
   ]
  },
  {
   "cell_type": "code",
   "execution_count": 2,
   "metadata": {},
   "outputs": [],
   "source": [
    "class Patient:\n",
    "    pass"
   ]
  },
  {
   "cell_type": "markdown",
   "metadata": {},
   "source": [
    "# 3. Create a child class Diabetic_Patient that will inherit all of the variables and methods from Patient class"
   ]
  },
  {
   "cell_type": "markdown",
   "metadata": {},
   "source": [
    "Given Patient Class"
   ]
  },
  {
   "cell_type": "code",
   "execution_count": 3,
   "metadata": {},
   "outputs": [],
   "source": [
    "class Patient:\n",
    "    def __init__(self, name, age, gender):\n",
    "        self.name = name\n",
    "        self.age = age\n",
    "        self.gender = gender"
   ]
  },
  {
   "cell_type": "markdown",
   "metadata": {},
   "source": [
    "Solution"
   ]
  },
  {
   "cell_type": "code",
   "execution_count": 4,
   "metadata": {},
   "outputs": [
    {
     "name": "stdout",
     "output_type": "stream",
     "text": [
      "Karen 50 Female\n"
     ]
    }
   ],
   "source": [
    "class Diabetic_Patient(Patient):\n",
    "    pass\n",
    "\n",
    "diabetic_patient_A = Diabetic_Patient('Karen',50,'Female')\n",
    "print(diabetic_patient_A.name, diabetic_patient_A.age, diabetic_patient_A.gender)"
   ]
  },
  {
   "cell_type": "markdown",
   "metadata": {},
   "source": [
    "# 4. Class inheritance"
   ]
  },
  {
   "cell_type": "markdown",
   "metadata": {},
   "source": [
    "Given:\n",
    "Create a Diabetic_Patient class that inherits from Patient class. Given the 'diabetes_type' argument of Diabetic_Patient.diabetes_type() a default value of 2. Use the following code for your Patient class. You need to use method overriding "
   ]
  },
  {
   "cell_type": "code",
   "execution_count": 5,
   "metadata": {},
   "outputs": [],
   "source": [
    "class Patient:\n",
    "    def __init__(self, name, age, gender):\n",
    "        self.name = name\n",
    "        self.age = age\n",
    "        self.gender = gender\n",
    "        \n",
    "    def d_type(self, diabetes_type):\n",
    "        return(f\"Patient {self.name} is diagnosed with type {diabetes_type} diabetes\")"
   ]
  },
  {
   "cell_type": "markdown",
   "metadata": {},
   "source": [
    "Expected output: Patient <b>Karen</b> is diagnosed with type <b>2</b> diabetes"
   ]
  },
  {
   "cell_type": "markdown",
   "metadata": {},
   "source": [
    "Solution"
   ]
  },
  {
   "cell_type": "code",
   "execution_count": 6,
   "metadata": {},
   "outputs": [
    {
     "name": "stdout",
     "output_type": "stream",
     "text": [
      "Patient Karen is diagnosed with type 2 diabetes\n"
     ]
    }
   ],
   "source": [
    "class Patient:\n",
    "    def __init__(self, name, age, gender):\n",
    "        self.name = name\n",
    "        self.age = age\n",
    "        self.gender = gender\n",
    "        \n",
    "    def d_type(self, diabetes_type):\n",
    "        return(f\"Patient {self.name} is diagnosed with type {diabetes_type} diabetes\")\n",
    "    \n",
    "class Diabetic_Patient(Patient):\n",
    "    def d_type(self, diabetes_type=2):\n",
    "        return super().d_type(diabetes_type=2)\n",
    "    \n",
    "diabetic_patient_A = Diabetic_Patient(\"Karen\", 25, 'Female')\n",
    "print(diabetic_patient_A.d_type())"
   ]
  },
  {
   "cell_type": "markdown",
   "metadata": {},
   "source": [
    "# 5. Define property that should have the same value for every class instance"
   ]
  },
  {
   "cell_type": "markdown",
   "metadata": {},
   "source": [
    "Define a class attribute ”ward_unit” with a default value 'general'. i.e., every inpatient should be admitted to ward 'general'.\n",
    "\n",
    "Given:"
   ]
  },
  {
   "cell_type": "code",
   "execution_count": 7,
   "metadata": {},
   "outputs": [],
   "source": [
    "class Patient:\n",
    "\n",
    "    def __init__(self, name, age, gender):\n",
    "        self.name = name\n",
    "        self.age = age\n",
    "        self.gender = gender\n",
    "\n",
    "class Diabetic_Patient(Patient):\n",
    "    pass\n",
    "\n",
    "class Cardiac_Patient(Patient):\n",
    "    pass"
   ]
  },
  {
   "cell_type": "markdown",
   "metadata": {},
   "source": [
    "<b>Expected Output:</b>\n",
    "\n",
    "Ward: General, Patient name: Karen, Age: 25, Gender: Female <br>\n",
    "Ward: General, Patient name: John, Age: 65, Gender: Male"
   ]
  },
  {
   "cell_type": "markdown",
   "metadata": {},
   "source": [
    "Solution"
   ]
  },
  {
   "cell_type": "markdown",
   "metadata": {},
   "source": [
    "Variables created in .__init__() are called instance variables. An instance variable’s value is specific to a particular instance of the class. For example, in the solution, all Patient objects have a name, age and gender, but the name, age and gender variables’ values will vary depending on the Patient instance.\n",
    "\n",
    "On the other hand, class attributes are attributes that have the same value for all class instances. You can define a class attribute by assigning a value to a variable name outside of .__init__()."
   ]
  },
  {
   "cell_type": "code",
   "execution_count": 10,
   "metadata": {},
   "outputs": [
    {
     "name": "stdout",
     "output_type": "stream",
     "text": [
      "Ward: General , Patient name: Karen , Age: 25 , Gender: Female\n",
      "Ward: General , Patient name: John , Age: 65 , Gender: Male\n"
     ]
    }
   ],
   "source": [
    "class Patient:\n",
    "    # Class attribute\n",
    "    ward = \"General\"\n",
    "\n",
    "    def __init__(self, name, age, gender):\n",
    "        self.name = name\n",
    "        self.age = age\n",
    "        self.gender = gender\n",
    "\n",
    "class Diabetic_Patient(Patient):\n",
    "    pass\n",
    "\n",
    "class Cardiac_Patient(Patient):\n",
    "    pass\n",
    "\n",
    "diabetic_patient_A = Diabetic_Patient(\"Karen\", 25, \"Female\")\n",
    "print(\"Ward:\",diabetic_patient_A.ward,\", Patient name:\", diabetic_patient_A.name, \", Age:\", diabetic_patient_A.age, \", Gender:\", diabetic_patient_A.gender)\n",
    "\n",
    "cardiac_patient_B = Cardiac_Patient(\"John\", 65, 'Male')\n",
    "print(\"Ward:\",cardiac_patient_B.ward,\", Patient name:\", cardiac_patient_B.name, \", Age:\", cardiac_patient_B.age, \", Gender:\", cardiac_patient_B.gender)\n"
   ]
  },
  {
   "cell_type": "markdown",
   "metadata": {},
   "source": [
    "# 6. Class Inheritance"
   ]
  },
  {
   "cell_type": "markdown",
   "metadata": {},
   "source": [
    "Given:\n",
    "\n",
    "Create a Diabetic_Patient child class that inherits from the Patient class. The default copay charge of any patient is $25. If Patient is Diabetic_Patient instance, we need to add an additional charge of 50% of copay charge. So total charge for diabetic patient instance will become the final amount = copay + 50% of the copay.\n",
    "\n",
    "Note: The patient copay is 25. so the final fare amount should be 25 + 12.5 = 37.5. You need to override the copay() method of a Patient class in Diabetic_Patient class.\n",
    "\n",
    "Use the following code for your parent Patient class. We need to access the parent class from inside a method of a child class."
   ]
  },
  {
   "cell_type": "code",
   "execution_count": 12,
   "metadata": {},
   "outputs": [
    {
     "name": "stdout",
     "output_type": "stream",
     "text": [
      "Total copay is: 25\n"
     ]
    }
   ],
   "source": [
    "class Patient:\n",
    "    def __init__(self, name, age, gender):\n",
    "        self.name = name\n",
    "        self.age = age\n",
    "        self.gender = gender\n",
    "\n",
    "    def copay(self):\n",
    "        self.copay = 25\n",
    "        return self.copay\n",
    "\n",
    "class Diabetic_Patient(Patient):\n",
    "    pass\n",
    "\n",
    "diabetic_patient_A = Diabetic_Patient(\"Karen\", 25, \"Female\")\n",
    "print(\"Total copay is:\", diabetic_patient_A.copay())"
   ]
  },
  {
   "cell_type": "markdown",
   "metadata": {},
   "source": [
    "Solution"
   ]
  },
  {
   "cell_type": "code",
   "execution_count": 13,
   "metadata": {},
   "outputs": [
    {
     "name": "stdout",
     "output_type": "stream",
     "text": [
      "Total copay is: 37.5\n"
     ]
    }
   ],
   "source": [
    "class Patient:\n",
    "    def __init__(self, name, age, gender):\n",
    "        self.name = name\n",
    "        self.age = age\n",
    "        self.gender = gender\n",
    "\n",
    "    def copay(self):\n",
    "        self.copay = 25\n",
    "        return self.copay\n",
    "\n",
    "class Diabetic_Patient(Patient):\n",
    "    def copay(self):\n",
    "        copay = super().copay()\n",
    "        copay += copay * 50 / 100\n",
    "        return(copay)\n",
    "\n",
    "diabetic_patient_A = Diabetic_Patient(\"Karen\", 25, \"Female\")\n",
    "print(\"Total copay is:\", diabetic_patient_A.copay())"
   ]
  },
  {
   "cell_type": "markdown",
   "metadata": {},
   "source": [
    "# 7. Determine which class a given diabetic patient object belongs to (Check type of an object)"
   ]
  },
  {
   "cell_type": "markdown",
   "metadata": {},
   "source": [
    "Given:"
   ]
  },
  {
   "cell_type": "code",
   "execution_count": 14,
   "metadata": {},
   "outputs": [],
   "source": [
    "class Patient:\n",
    "    def __init__(self, name, age, gender):\n",
    "        self.name = name\n",
    "        self.age = age\n",
    "        self.gender = gender\n",
    "        \n",
    "class Diabetic_Patient(Patient):\n",
    "    pass\n",
    "\n",
    "diabetic_patient_A = Diabetic_Patient('Karen',50,'Female')"
   ]
  },
  {
   "cell_type": "markdown",
   "metadata": {},
   "source": [
    "Solution"
   ]
  },
  {
   "cell_type": "code",
   "execution_count": 15,
   "metadata": {},
   "outputs": [
    {
     "name": "stdout",
     "output_type": "stream",
     "text": [
      "<class '__main__.Diabetic_Patient'>\n"
     ]
    }
   ],
   "source": [
    "# use Python's built-in type() function\n",
    "print(type(diabetic_patient_A))"
   ]
  },
  {
   "cell_type": "markdown",
   "metadata": {},
   "source": [
    "# 8. Determine if diabetic patient is also an instance of the Patient class"
   ]
  },
  {
   "cell_type": "markdown",
   "metadata": {},
   "source": [
    "Given:"
   ]
  },
  {
   "cell_type": "code",
   "execution_count": 16,
   "metadata": {},
   "outputs": [],
   "source": [
    "class Patient:\n",
    "    def __init__(self, name, age, gender):\n",
    "        self.name = name\n",
    "        self.age = age\n",
    "        self.gender = gender\n",
    "        \n",
    "class Diabetic_Patient(Patient):\n",
    "    pass\n",
    "\n",
    "diabetic_patient_A = Diabetic_Patient('Karen',50,'Female')"
   ]
  },
  {
   "cell_type": "markdown",
   "metadata": {},
   "source": [
    "Solution:"
   ]
  },
  {
   "cell_type": "code",
   "execution_count": 18,
   "metadata": {},
   "outputs": [
    {
     "name": "stdout",
     "output_type": "stream",
     "text": [
      "True\n"
     ]
    }
   ],
   "source": [
    "# use Python's built-in isinstance() function\n",
    "print(isinstance(diabetic_patient_A, Patient))"
   ]
  },
  {
   "cell_type": "code",
   "execution_count": null,
   "metadata": {},
   "outputs": [],
   "source": []
  }
 ],
 "metadata": {
  "kernelspec": {
   "display_name": "Python 3",
   "language": "python",
   "name": "python3"
  },
  "language_info": {
   "codemirror_mode": {
    "name": "ipython",
    "version": 3
   },
   "file_extension": ".py",
   "mimetype": "text/x-python",
   "name": "python",
   "nbconvert_exporter": "python",
   "pygments_lexer": "ipython3",
   "version": "3.7.6"
  }
 },
 "nbformat": 4,
 "nbformat_minor": 4
}
