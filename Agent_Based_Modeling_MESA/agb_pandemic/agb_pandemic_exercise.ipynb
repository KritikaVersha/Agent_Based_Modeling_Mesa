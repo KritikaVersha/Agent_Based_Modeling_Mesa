{
 "cells": [
  {
   "cell_type": "markdown",
   "metadata": {},
   "source": [
    "# Import Libraries"
   ]
  },
  {
   "cell_type": "markdown",
   "metadata": {},
   "source": [
    "<b>What are libraries?</b>\n",
    "\n",
    "A (software) library is a collection of files (called modules) that contains functions for use by other programs.\n",
    "- May also contain data values (e.g., numerical constants) and other things.\n",
    "- Library’s contents are supposed to be related, but there’s no way to enforce that.\n",
    "- The Python standard library is an extensive suite of modules that comes with Python itself.\n",
    "- Many additional libraries are available from PyPI (the Python Package Index).\n",
    "\n",
    "\n",
    "<b>Why use libraries?</b>\n",
    "- To extend the capabilities of Python\n",
    "- Use software that other people have written"
   ]
  },
  {
   "cell_type": "markdown",
   "metadata": {},
   "source": [
    "# Libraries used for Agent Based Modeling"
   ]
  },
  {
   "cell_type": "code",
   "execution_count": null,
   "metadata": {},
   "outputs": [],
   "source": [
    "import time, enum, math\n",
    "from random import choice, sample\n",
    "import numpy as np\n",
    "import pandas as pd\n",
    "import pylab as plt\n",
    "from mesa import Agent, Model\n",
    "from mesa.time import RandomActivation\n",
    "from mesa.space import NetworkGrid\n",
    "from mesa.datacollection import DataCollector\n",
    "\n",
    "import networkx as nx"
   ]
  },
  {
   "cell_type": "code",
   "execution_count": null,
   "metadata": {},
   "outputs": [],
   "source": [
    "import datetime\n",
    "from datetime import datetime\n",
    "from dateutil.relativedelta import relativedelta\n",
    "from datetime import date"
   ]
  },
  {
   "cell_type": "markdown",
   "metadata": {},
   "source": [
    "# Libraries used for visualizing Agent Based Modeling"
   ]
  },
  {
   "cell_type": "code",
   "execution_count": null,
   "metadata": {},
   "outputs": [],
   "source": [
    "from bokeh.io import show, output_notebook\n",
    "from bokeh.models import ColumnDataSource, GeoJSONDataSource, ColorBar, HoverTool, Legend, LinearColorMapper, ColorBar\n",
    "from bokeh.plotting import figure\n",
    "from bokeh.palettes import brewer\n",
    "from bokeh.models.glyphs import Line\n",
    "from bokeh.palettes import Category10, Viridis\n",
    "output_notebook()\n",
    "import panel as pn\n",
    "import panel.widgets as pnw\n",
    "pn.extension()"
   ]
  },
  {
   "cell_type": "markdown",
   "metadata": {},
   "source": [
    "# Reading the dataset used in Agent Based Modeling"
   ]
  },
  {
   "cell_type": "markdown",
   "metadata": {},
   "source": [
    "The dataset used for simulating tthe pandemic is obtained from michigan.gov : https://www.michigan.gov/coronavirus/0,9753,7-406-98163_98173---,00.html <br>\n",
    "\n",
    "The dataset from different spreadsheet is merged and explored in Michigan_COVID_Dataset.ipynb. The final dataset consist of COVID cases tracked over one year in the Alger county of Michigan. Following fields exist in the dataset\n",
    "- <b>Date</b> -> Date of tracking covid case\n",
    "- <b>COUNTY</b> -> County from where data is collected\n",
    "- <b>Cases_Confirmed</b> -> The number of covid cases that have been confirmed for the given date\n",
    "- <b>Cases_Probable</b> -> The number of covid cases that could be probable for the given date\n",
    "- <b>Cases.Cumulative_Confirmed</b> -> The cumulative number of confirmed covid cases until the date\n",
    "- <b>Cases.Cumulative_Probable</b> -> The cumulative number of probable covid cases until the date\n",
    "- <b>Deaths_Confirmed</b> -> The number of deaths due to covid cases that have been confirmed for the given date\n",
    "- <b>Deaths_Probable</b> -> The number of deaths due to covid cases that could be probable for the given date\n",
    "- <b>Deaths.Cumulative_Confirmed</b> -> The cumulative number of confirmed deaths due to covid cases until the date\n",
    "- <b>Deaths.Cumulative_Probable</b> -> The cumulative number of probable deaths due to covid cases until the date\n",
    "- <b>MessageDate</b> -> Date of covid testing in county labs\n",
    "- <b>Negative</b> -> Number of negative covid testing outcome in county labs\n",
    "- <b>Positive</b> -> Number of positive covid testing outcome in county labs\n",
    "- <b>Total</b> -> Total number of covid testing outcomes in county labs\n",
    "- <b>Population</b> -> Total population of the county\n",
    "\n",
    "Use pandas library to read the file into a dataframe. Reference: https://pandas.pydata.org/docs/reference/api/pandas.read_csv.html"
   ]
  },
  {
   "cell_type": "code",
   "execution_count": null,
   "metadata": {},
   "outputs": [],
   "source": [
    "data = pd.read_csv(\"//Users//kritikaversha//Desktop//Agent_Based_Modeling_MESA//covid_final.csv\")"
   ]
  },
  {
   "cell_type": "markdown",
   "metadata": {},
   "source": [
    "# Agent Based Modeling (S-I-R)"
   ]
  },
  {
   "cell_type": "markdown",
   "metadata": {},
   "source": [
    "The SIR model is one of the simplest compartmental models, and many models are derivatives of this basic form. The model consists of three compartments:- <br>\n",
    "\n",
    "<b>S</b>-> The number of <u>susceptible</u> individuals. When a susceptible and an infectious individual come into \"infectious contact\", the susceptible individual contracts the disease and transitions to the infectious compartment.<br>\n",
    "<b>I</b>-> The number of <u>infectious</u> individuals. These are individuals who have been infected and are capable of infecting susceptible individuals.<br>\n",
    "<b>R</b>-> for the number of <u>removed (and immune) or deceased individuals</u>. These are individuals who have been infected and have either recovered from the disease and entered the removed compartment, or died. It is assumed that the number of deaths is negligible with respect to the total population. This compartment may also be called \"recovered\" or \"resistant\".<br>\n",
    "\n",
    "Interesting Watch: https://www.youtube.com/watch?v=gxAaO2rsdIs&ab_channel=3Blue1Brown"
   ]
  },
  {
   "cell_type": "markdown",
   "metadata": {},
   "source": [
    "# Mesa"
   ]
  },
  {
   "cell_type": "markdown",
   "metadata": {},
   "source": [
    "Mesa is a modular framework for building, analyzing and visualizing agent-based models.\n",
    "\n",
    "Agent-based models are computer simulations involving multiple entities (the agents) acting and interacting with one another based on their programmed behavior. Agents can be used to represent living cells, animals, individual humans, even entire organizations or abstract entities. Sometimes, we may have an understanding of how the individual components of a system behave, and want to see what system-level behaviors and effects emerge from their interaction. Other times, we may have a good idea of how the system overall behaves, and want to figure out what individual behaviors explain it. Or we may want to see how to get agents to cooperate or compete most effectively. Or we may just want to build a cool toy with colorful little dots moving around.\n",
    "\n",
    "Most models consist of one class to represent the model itself; one class (or more) for agents; a scheduler to handle time (what order the agents act in), and possibly a space for the agents to inhabit and move through. These are implemented in Mesa’s modeling modules:\n",
    "\n",
    "mesa.Model, mesa.Agent\n",
    "\n",
    "mesa.time\n",
    "\n",
    "mesa.space"
   ]
  },
  {
   "cell_type": "markdown",
   "metadata": {},
   "source": [
    "# Modeling"
   ]
  },
  {
   "cell_type": "markdown",
   "metadata": {},
   "source": [
    "### Create a class and define the components of the SIR model"
   ]
  },
  {
   "cell_type": "code",
   "execution_count": null,
   "metadata": {},
   "outputs": [],
   "source": [
    "class State(enum.IntEnum):\n",
    "    SUSCEPTIBLE = 0\n",
    "    INFECTED = 1\n",
    "    REMOVED = 2"
   ]
  },
  {
   "cell_type": "markdown",
   "metadata": {},
   "source": [
    "### Create Agent class to create agents and their operations"
   ]
  },
  {
   "cell_type": "code",
   "execution_count": null,
   "metadata": {},
   "outputs": [],
   "source": [
    "class MyAgent(Agent):\n",
    "    \"\"\" An agent in an epidemic model.\"\"\"\n",
    "    def __init__(self, unique_id, model):\n",
    "        super().__init__(unique_id, model)\n",
    "        #self.gender = If gender attributes for agent exist, it can be added here\n",
    "        #self.age = If age attributes for agent exist, it can be added here\n",
    "        #self.county = If county attributes for agent exist, it can be added here\n",
    "        self.state = State.SUSCEPTIBLE\n",
    "        self.infection_time = 0\n",
    "\n",
    "    def move(self):\n",
    "        \"\"\"Move the agent\"\"\"\n",
    "\n",
    "        \"\"\"Fetch in all the possible steps for a node/agent - model.grid.get_neighbors\"\"\"\n",
    "        possible_steps = [\n",
    "\n",
    "        ]\n",
    "        \n",
    "        \"\"\"Since agent's movements were not tracked in the dataset, we move the agent to random positions\"\"\"\n",
    "        if len(possible_steps) > 0:\n",
    "            new_position = self.random.choice(possible_steps)                 \n",
    "            self.model.grid.move_agent()\n",
    "\n",
    "    def status(self):\n",
    "        \"\"\"Check infection status\"\"\"\n",
    "        \n",
    "        if self.state == State.INFECTED:     \n",
    "            drate = self.model.death_rate\n",
    "            \n",
    "            # Since the dataset does not track individual, we make a random choice if the infected individual recovered\n",
    "            # If the individual is not alive, the state is changed to REMOVED/RECOVERED\n",
    "            # Similarly, if the time difference between the individual getting infected and now is greater than recovery time, we change the state to REMOVED/RECOVERED\n",
    "            alive = np.random.choice([0,1], p=[drate,1-drate])\n",
    "            if alive == 0:\n",
    "                self.model.schedule.remove()            \n",
    "            t = self.model.schedule.time-self.infection_time\n",
    "            if t >= self.recovery_time:          \n",
    "                self.state = \n",
    "       \n",
    "\n",
    "    def contact(self):\n",
    "        \"\"\"Find close contacts and infect\"\"\"\n",
    "        \n",
    "        neighbors_nodes = self.model.grid.get_neighbors(self.pos, include_center=False)\n",
    "        susceptible_neighbors = [\n",
    "        ]\n",
    "        for a in susceptible_neighbors:\n",
    "            if self.random.random() < model.ptrans:\n",
    "                a.state = \n",
    "                a.recovery_time = \n",
    "                                \n",
    "    def step(self):\n",
    "        self.status()\n",
    "        self.move()\n",
    "        self.contact()\n",
    "        \n",
    "    def toJSON(self):        \n",
    "        d = self.unique_id\n",
    "        return json.dumps(d, default=lambda o: o.__dict__, \n",
    "            sort_keys=True, indent=4)\n"
   ]
  },
  {
   "cell_type": "markdown",
   "metadata": {},
   "source": [
    "### Create Model class to create and infection model"
   ]
  },
  {
   "cell_type": "code",
   "execution_count": null,
   "metadata": {},
   "outputs": [],
   "source": [
    "class NetworkInfectionModel(Model):\n",
    "    \"\"\"A model for infection spread.\"\"\"\n",
    "    \n",
    "    def __init__(self, N=10, ptrans=0.05, avg_node_degree=3,\n",
    "                 progression_period=3, progression_sd=2, death_rate=0.0193, recovery_days=21,\n",
    "                 recovery_sd=7):\n",
    "        \"\"\"Define the attributes / characteristics of your infection model\"\"\"\n",
    "        self.num_nodes =   \n",
    "        prob = avg_node_degree / self.num_nodes\n",
    "        \n",
    "        self.initial_outbreak_size = 1\n",
    "        self.recovery_days = \n",
    "        self.recovery_sd = \n",
    "        self.ptrans = \n",
    "        self.death_rate = \n",
    "        \n",
    "        \"\"\"Create a network grid with individual in the population as nodes\"\"\"\n",
    "        self.G = nx.erdos_renyi_graph(n=self.num_nodes, p=prob)\n",
    "        self.grid = NetworkGrid(self.G)\n",
    "        self.nodes = list(self.G.nodes())\n",
    "        \n",
    "        \"\"\"Set the schedule activation using MESA's RandomActivation or Simultaneous Activation\"\"\"\n",
    "        self.schedule = \n",
    "        self.running = True\n",
    "        \n",
    "        \"\"\"Using the COVID dataset\n",
    "        1. Create agents\n",
    "        2. Set agent state attribute\n",
    "        3. Schedule agents\n",
    "        4. Place agent nodes in network grid\"\"\"\n",
    "        count_id = 0\n",
    "        for idx, rows in data.iterrows():\n",
    "            self.susceptible_ag_count = \n",
    "            self.infected_ag_count = \n",
    "            self.removed_ag_count = \n",
    "            #county = rows['COUNTY']\n",
    "            \n",
    "            # Create susceptible agents\n",
    "            if self.susceptible_ag_count > 0:\n",
    "                for i in range(self.susceptible_ag_count):\n",
    "                    count_id += 1\n",
    "                    a = MyAgent(count_id, self)\n",
    "                    self.schedule.add(a)\n",
    "                    a.state = State.SUSCEPTIBLE\n",
    "                    #add agent\n",
    "                    node = np.random.choice(self.nodes)\n",
    "                    self.grid.place_agent(a, node)\n",
    "                    self.nodes.remove(node)\n",
    "                    \n",
    "            # Create infected agents       \n",
    "            if self.infected_ag_count > 0:\n",
    "                for i in range(self.infected_ag_count):\n",
    "                        count_id += 1\n",
    "                        a = MyAgent(count_id, self)\n",
    "                        self.schedule.add()\n",
    "                        a.state = \n",
    "                        a.recovery_time = self.get_recovery_time()\n",
    "                        #add agent\n",
    "                        node = np.random.choice(self.nodes)\n",
    "                        self.grid.place_agent()\n",
    "                        self.nodes.remove(node)\n",
    "            \n",
    "            # Create recovered/removed agents\n",
    "            if self.removed_ag_count > 0:\n",
    "                for i in range(self.removed_ag_count):\n",
    "                        count_id += 1\n",
    "                        a = MyAgent(count_id, self)\n",
    "                        self.schedule.add()\n",
    "                        a.state = \n",
    "                        #add agent\n",
    "                        node = np.random.choice(self.nodes)\n",
    "                        self.grid.place_agent() \n",
    "                        self.nodes.remove(node)\n",
    "                               \n",
    "        \"\"\"Convert the remaining county population as susceptible nodes\"\"\"\n",
    "        for node in self.nodes:\n",
    "            count_id += 1\n",
    "            a = MyAgent(, self)\n",
    "            self.schedule.add(a)\n",
    "            a.state = \n",
    "            #add agent\n",
    "            self.grid.place_agent()\n",
    "\n",
    "\n",
    "        \"\"\"Use MESA's DataCollector to collect the data generated by MESA's model\"\"\"\n",
    "        self.datacollector = DataCollector()\n",
    "    \n",
    "    \"\"\"Calculate recovery time\"\"\"\n",
    "    def get_recovery_time(self):\n",
    "            return int(self.random.normalvariate(self.recovery_days,self.recovery_sd))\n",
    "    \n",
    "    \"\"\"Generate model steps and schedule.\"\"\"\n",
    "    def step(self):\n",
    "            self.datacollector.collect(self)\n",
    "            self.schedule.step()\n",
    "            \n",
    "    "
   ]
  },
  {
   "cell_type": "markdown",
   "metadata": {},
   "source": [
    "# Analysis"
   ]
  },
  {
   "cell_type": "code",
   "execution_count": null,
   "metadata": {},
   "outputs": [],
   "source": [
    "def get_column_data(model):\n",
    "    #pivot the model dataframe to get states count at each step\n",
    "    agent_state = \n",
    "    X = pd.pivot_table(agent_state.reset_index(),index='Step',columns='State',aggfunc=np.size,fill_value=0)    \n",
    "    labels = ['Susceptible','Infected','Removed']\n",
    "    X.columns = labels[:len(X.columns)]\n",
    "    return X\n",
    "    \n",
    "def plot_states(model,ax):    \n",
    "    steps = \n",
    "    X = get_column_data()\n",
    "    X.plot(ax=ax,lw=3,alpha=0.8)\n",
    "    return f"
   ]
  },
  {
   "cell_type": "code",
   "execution_count": null,
   "metadata": {
    "scrolled": true
   },
   "outputs": [],
   "source": [
    "pop= \n",
    "#steps=(datetime.strptime(max(data['Date']), \"%Y-%m-%d\") - datetime.strptime(min(data['Date']), \"%Y-%m-%d\")).days\n",
    "steps = \n",
    "st=time.time()\n",
    "print(\"Initiate the model\")\n",
    "model = NetworkInfectionModel(pop, ptrans=0.05)\n",
    "for i in range(steps):\n",
    "    model.step()\n",
    "print (time.time()-st)\n",
    "agent_state = \n",
    "print (get_column_data(model)[:10])"
   ]
  },
  {
   "cell_type": "code",
   "execution_count": null,
   "metadata": {},
   "outputs": [],
   "source": [
    "f,ax=plt.subplots(1,1,figsize=(8,4))\n",
    "plot_states(model,ax)\n",
    "plt.savefig('SIR.png',dpi=150)"
   ]
  },
  {
   "cell_type": "markdown",
   "metadata": {},
   "source": [
    "# Visualization using NetworkX (Not using Mesa's Visualization)"
   ]
  },
  {
   "cell_type": "code",
   "execution_count": null,
   "metadata": {},
   "outputs": [],
   "source": [
    "from matplotlib.colors import ListedColormap, LinearSegmentedColormap\n",
    "cmap = ListedColormap([\"lightblue\", \"orange\", \"green\",])\n",
    "\n",
    "def plot_grid(model,fig,layout='spring',title=''):\n",
    "    graph = model.G\n",
    "    if layout == 'kamada-kawai':      \n",
    "        pos = nx.kamada_kawai_layout(graph)  \n",
    "    elif layout == 'circular':\n",
    "        pos = nx.circular_layout(graph)\n",
    "    else:\n",
    "        pos = nx.spring_layout(graph, iterations=5, seed=8)  \n",
    "    plt.clf()\n",
    "    ax=fig.add_subplot()\n",
    "    states = [int(i.state) for i in model.grid.get_all_cell_contents()]\n",
    "\n",
    "    #cells = [(i.pos,int(i.state)) for i in model.grid.get_all_cell_contents()]\n",
    "    #print (cells[:10])\n",
    "    #print (pos)\n",
    "    #print (pd.Series(states).value_counts())\n",
    "    colors = [cmap(i) for i in states]\n",
    "    \n",
    "    nx.draw(graph, pos, node_size=40, edge_color='gray', node_color=colors, #with_labels=True,\n",
    "            alpha=0.9,font_size=14,ax=ax)\n",
    "    #print (ax.patches)\n",
    "    #ax.legend(['S','I','R'])\n",
    "    ax.set_title(title)\n",
    "    return\n",
    "\n",
    "fig,ax=plt.subplots(1,1,figsize=(16,10))\n",
    "model = NetworkInfectionModel(476, ptrans=0.1)\n",
    "#model = NetworkInfectionModel(pop, ptrans=0.1)\n",
    "model.step()\n",
    "f=plot_grid(model,fig,layout='kamada-kawai')\n",
    "plt.savefig('abm_networkgrid.jpg')\n"
   ]
  },
  {
   "cell_type": "code",
   "execution_count": null,
   "metadata": {},
   "outputs": [],
   "source": [
    "def run_model(pop, ptrans, degree, steps, delay, layout):\n",
    "\n",
    "    #model = NetworkInfectionModel(pop, ptrans=ptrans, avg_node_degree=degree)\n",
    "    model = NetworkInfectionModel(476, ptrans=ptrans, avg_node_degree=degree)\n",
    "\n",
    "    fig1 = plt.Figure(figsize=(8,6))\n",
    "    grid_pane.object = fig1\n",
    "    fig2 = plt.Figure(figsize=(8,6))\n",
    "    ax2=fig2.add_subplot(1,1,1,label='b')\n",
    "    states_pane.object = fig2 \n",
    "\n",
    "    for i in range(steps):\n",
    "        model.step()\n",
    "        plot_grid(model,fig1,title='step=%s' %i, layout=layout)        \n",
    "        grid_pane.param.trigger('object')\n",
    "        ax2.clear()\n",
    "        plot_states(model,ax2)\n",
    "        ax2.set_xlim(0,steps)\n",
    "        #states_pane.object = fig2\n",
    "        states_pane.param.trigger('object')    \n",
    "        time.sleep(delay)\n",
    "    plt.clf()\n",
    "    "
   ]
  },
  {
   "cell_type": "code",
   "execution_count": null,
   "metadata": {},
   "outputs": [],
   "source": [
    "grid_pane = pn.pane.Matplotlib()\n",
    "states_pane = pn.pane.Matplotlib()\n",
    "go_btn = pnw.Button(name='run',width=100,button_type='primary')\n",
    "#pop_input = pnw.IntSlider(name='population',value=pop,start=10,end=1000,step=10,width=100)\n",
    "pop_input = pnw.IntSlider(name='population',value=100,start=10,end=1000,step=10,width=100)\n",
    "ptrans_input = pnw.FloatSlider(name='prob. trans',value=0.1,width=100)\n",
    "degree_input = pnw.IntSlider(name='node degree',value=3,start=1,end=10,width=100)\n",
    "steps_input = pnw.IntSlider(name='steps',value=20,start=5,end=100,width=100)\n",
    "delay_input = pnw.FloatSlider(name='delay',value=.2,start=0,end=3,step=.2,width=100)\n",
    "layout_input = pnw.Select(name='layout',options=['spring','circular','kamada-kawai'],width=100)\n",
    "widgets = pn.WidgetBox(go_btn,pop_input,ptrans_input,degree_input,steps_input,delay_input,layout_input)\n",
    "\n",
    "def execute(event):\n",
    "    run_model(pop_input.value, ptrans_input.value, degree_input.value, steps_input.value, delay_input.value, layout_input.value)\n",
    "go_btn.param.watch(execute, 'clicks')\n",
    "    \n",
    "target = pn.Row(pn.Column(widgets),grid_pane,states_pane,sizing_mode='stretch_width')\n",
    "target.show()"
   ]
  },
  {
   "cell_type": "code",
   "execution_count": null,
   "metadata": {},
   "outputs": [],
   "source": []
  }
 ],
 "metadata": {
  "kernelspec": {
   "display_name": "Python 3",
   "language": "python",
   "name": "python3"
  },
  "language_info": {
   "codemirror_mode": {
    "name": "ipython",
    "version": 3
   },
   "file_extension": ".py",
   "mimetype": "text/x-python",
   "name": "python",
   "nbconvert_exporter": "python",
   "pygments_lexer": "ipython3",
   "version": "3.7.6"
  }
 },
 "nbformat": 4,
 "nbformat_minor": 4
}
