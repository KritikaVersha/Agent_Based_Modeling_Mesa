{
 "cells": [
  {
   "cell_type": "markdown",
   "metadata": {},
   "source": [
    "# Michigan COVID Dataset"
   ]
  },
  {
   "cell_type": "markdown",
   "metadata": {},
   "source": [
    "Note on deaths (04/13/21): Regular reviews of death certificate data maintained in Vital Records reporting systems are conducted by MDHHS staff three times per week. As a part of this process, records that identify COVID-19 infection as a contributing factor to death are compared against all laboratory confirmed cases of COVID-19 in the Michigan Disease Surveillance System (MDSS). If a death certificate is matched to a confirmed COVID-19 case and that record in the MDSS does not indicate the individual died, the MDSS record is updated to indicate the death and the appropriate local health department is notified. These matched deaths are then included with mortality information posted to the Michigan Coronavirus website. As a result of the most recent assessment, today's data includes 37 additional deaths identified by this methodology.\n",
    "\n",
    "The State of Michigan is working around the clock to test and treat COVID-19 patients. Below is the most recent data healthcare experts across the state have compiled. It is updated Monday - Saturday. "
   ]
  },
  {
   "cell_type": "markdown",
   "metadata": {},
   "source": [
    "https://www.michigan.gov/coronavirus/0,9753,7-406-98163_98173---,00.html"
   ]
  },
  {
   "cell_type": "markdown",
   "metadata": {},
   "source": [
    "# Import Libraries to read files"
   ]
  },
  {
   "cell_type": "code",
   "execution_count": null,
   "metadata": {},
   "outputs": [],
   "source": [
    "import pandas as pd\n",
    "import seaborn as sns"
   ]
  },
  {
   "cell_type": "markdown",
   "metadata": {},
   "source": [
    "# Read dataset"
   ]
  },
  {
   "cell_type": "code",
   "execution_count": null,
   "metadata": {},
   "outputs": [],
   "source": [
    "df_cases_death_by_county = pd.read_excel()\n",
    "df_cases_death_by_symptom_onset = pd.read_excel()\n",
    "df_cases_by_statewide_demographic = pd.read_excel()\n",
    "df_covid19_test_by_county = pd.read_excel()\n",
    "df_diagnostic_result = pd.read_excel()\n",
    "df_michigan_population = pd.read_excel()"
   ]
  },
  {
   "cell_type": "markdown",
   "metadata": {},
   "source": [
    "# Display 10 rows from dataframe df_cases_death_by_county, df_cases_death_by_symptom_onset"
   ]
  },
  {
   "cell_type": "code",
   "execution_count": null,
   "metadata": {},
   "outputs": [],
   "source": []
  },
  {
   "cell_type": "markdown",
   "metadata": {},
   "source": [
    "# Display all column names from dataframes df_covid19_test_by_county, df_michigan_population"
   ]
  },
  {
   "cell_type": "code",
   "execution_count": null,
   "metadata": {},
   "outputs": [],
   "source": []
  },
  {
   "cell_type": "markdown",
   "metadata": {},
   "source": [
    "# Manipulate the dataframe df_michigan_population"
   ]
  },
  {
   "cell_type": "markdown",
   "metadata": {},
   "source": [
    "- Remove the word 'County' from values in the 'COUNTY' column \n",
    "- Rename column name 'County' to 'COUNTY'\n",
    "- Drop the column 'Rank' from the dataframe"
   ]
  },
  {
   "cell_type": "code",
   "execution_count": null,
   "metadata": {},
   "outputs": [],
   "source": [
    "df_michigan_population['County'] = \n",
    "df_michigan_population = \n",
    "df_michigan_population.drop(, axis=1, inplace=True)\n",
    "df_michigan_population.head()"
   ]
  },
  {
   "cell_type": "markdown",
   "metadata": {},
   "source": [
    "# Merge dataframe df_cases_death_by_county with df_michigan_population"
   ]
  },
  {
   "cell_type": "code",
   "execution_count": null,
   "metadata": {},
   "outputs": [],
   "source": [
    "df_cases_death_by_county = pd.merge()\n",
    "df_cases_death_by_county"
   ]
  },
  {
   "cell_type": "markdown",
   "metadata": {},
   "source": [
    "# Pivot dataframe df_cases_death_by_symptom_onset to have confirmed and probable cases in one row"
   ]
  },
  {
   "cell_type": "code",
   "execution_count": null,
   "metadata": {},
   "outputs": [],
   "source": [
    "df_cases_death_by_symptom_onset = df_cases_death_by_symptom_onset.pivot_table(index=[], columns=, values=['Cases','Deaths','Cases.Cumulative','Deaths.Cumulative']).reset_index()\n",
    "df_cases_death_by_symptom_onset.columns = df_cases_death_by_symptom_onset.columns.to_series().str.join('_')\n",
    "df_cases_death_by_symptom_onset = df_cases_death_by_symptom_onset.rename(columns={'Date_': 'Date', 'COUNTY_':'COUNTY'})\n",
    "df_cases_death_by_symptom_onset\n",
    "\n"
   ]
  },
  {
   "cell_type": "markdown",
   "metadata": {},
   "source": [
    "# Display rows from dataframe df_covid19_test_by_county where TestType = 'Total'"
   ]
  },
  {
   "cell_type": "code",
   "execution_count": null,
   "metadata": {},
   "outputs": [],
   "source": [
    "df_covid19_test_by_county = df_covid19_test_by_county[df_covid19_test_by_county.TestType == 'Total'].head()\n",
    "df_covid19_test_by_county"
   ]
  },
  {
   "cell_type": "code",
   "execution_count": null,
   "metadata": {},
   "outputs": [],
   "source": [
    "df_diagnostic_result"
   ]
  },
  {
   "cell_type": "markdown",
   "metadata": {},
   "source": [
    "# PLOTS"
   ]
  },
  {
   "cell_type": "code",
   "execution_count": null,
   "metadata": {},
   "outputs": [],
   "source": [
    "#COUNTY_LIST = ['Washtenaw','Detroit City','Clinton','Saginaw']\n",
    "COUNTY_LIST = ['Alger']\n",
    "sns.set(rc={'figure.figsize':(11.7,8.27)})\n",
    "sns.lineplot(data=df_diagnostic_result[df_diagnostic_result.COUNTY.isin(COUNTY_LIST)], x=\"MessageDate\", y=\"Positive\", hue=\"COUNTY\")"
   ]
  },
  {
   "cell_type": "markdown",
   "metadata": {},
   "source": [
    "# Display Line Plot for the given county list"
   ]
  },
  {
   "cell_type": "code",
   "execution_count": null,
   "metadata": {},
   "outputs": [],
   "source": [
    "COUNTY_LIST = ['Washtenaw','Detroit City','Clinton','Saginaw']"
   ]
  },
  {
   "cell_type": "markdown",
   "metadata": {},
   "source": [
    "# Create a dataframe for Cases by County, Positive Test and Death"
   ]
  },
  {
   "cell_type": "markdown",
   "metadata": {},
   "source": [
    "- Merge dataframes df_cases_death_by_symptom_onset and df_diagnostic_result\n",
    "- Merge the dataframe from previous step with df_michigan_population\n",
    "- Filter the dataframe to display the data only for 'Alger' county"
   ]
  },
  {
   "cell_type": "code",
   "execution_count": null,
   "metadata": {
    "scrolled": true
   },
   "outputs": [],
   "source": [
    "filtered_df = pd.merge(df_cases_death_by_symptom_onset, df_diagnostic_result, left_on=['COUNTY','Date'], right_on=['COUNTY','MessageDate'], how = 'inner')\n",
    "filtered_df = pd.merge(filtered_df,df_michigan_population, on=, how='inner' )\n",
    "filtered_df = filtered_df[filtered_df.COUNTY == ]\n",
    "filtered_df"
   ]
  },
  {
   "cell_type": "markdown",
   "metadata": {},
   "source": [
    "# Save the dataframe into a .csv file"
   ]
  },
  {
   "cell_type": "code",
   "execution_count": null,
   "metadata": {},
   "outputs": [],
   "source": [
    "filtered_df.to_csv(, index=False)"
   ]
  },
  {
   "cell_type": "code",
   "execution_count": null,
   "metadata": {},
   "outputs": [],
   "source": []
  }
 ],
 "metadata": {
  "kernelspec": {
   "display_name": "Python 3",
   "language": "python",
   "name": "python3"
  },
  "language_info": {
   "codemirror_mode": {
    "name": "ipython",
    "version": 3
   },
   "file_extension": ".py",
   "mimetype": "text/x-python",
   "name": "python",
   "nbconvert_exporter": "python",
   "pygments_lexer": "ipython3",
   "version": "3.7.6"
  }
 },
 "nbformat": 4,
 "nbformat_minor": 4
}
